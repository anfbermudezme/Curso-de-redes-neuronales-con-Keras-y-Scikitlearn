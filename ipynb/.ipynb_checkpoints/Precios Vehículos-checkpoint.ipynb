{
 "cells": [
  {
   "cell_type": "markdown",
   "metadata": {
    "colab_type": "text",
    "id": "7iFOX_Y3igEV"
   },
   "source": [
    "![texto alternativo](https://drive.google.com/uc?id=1_ZoJOp39dxsRTVndJP1_7jdY7oGi8sSu) \n",
    "\n",
    "<h1><center>Redes Neuronales con Keras y Scikit</center></h1>\n",
    "\n",
    "\n",
    "<center><i>Proyecto: Predicción de precios de vehiculos usados</i></center>"
   ]
  },
  {
   "cell_type": "markdown",
   "metadata": {
    "colab_type": "text",
    "id": "ARGQZBuPwJoD"
   },
   "source": [
    "<h1>Contenido</h1>\n",
    "\n",
    "<div class=\"alert alert-block alert-warning\" style=\"margin-top: 20px\">\n",
    "    <ol>\n",
    "        <li><a href=\"#problema\">Contexto Analítico  y exploración de datos</a></li>     \n",
    "        <li><a href=\"#ingenieria\">Ingeniería de datos</a></li>           \n",
    "        <li><a href=\"#arquitectura\">Diseño, Entrenamiento y Evaluación de la RN</a></li>\n",
    "    </ol>\n",
    "</div>\n",
    "<br>\n",
    "<hr>"
   ]
  },
  {
   "cell_type": "markdown",
   "metadata": {
    "colab_type": "text",
    "id": "_VfqD089-WuQ"
   },
   "source": [
    "<h1 id=\"problema\">Contexto analítico y exploración de datos</h1>\n",
    "\n",
    "El mercado de autos usados es reconocido por ser un sector economico muy competido con un centenar de compañias que luchan por hacerse con una porción de la torta. El precio de los autos se devalua año año debido a multiples factores y determinar el precio correcto es clave para las compañias para lograr competir en el mercado. En este caso se requiere implementar una red neural que permita determinar el valor más justo para los vehiculos dependiento de sus atributos.\n",
    "\n",
    "Se cuenta con un dataset (Craiglist_Cars.csv) que serán cargados directamente a Colab.\n"
   ]
  },
  {
   "cell_type": "code",
   "execution_count": 0,
   "metadata": {
    "colab": {},
    "colab_type": "code",
    "id": "MdkkRVpVZbyQ"
   },
   "outputs": [],
   "source": [
    "#Importamos las librerias necesarias\n",
    "import pandas as pd\n",
    "import numpy as np\n",
    "import io\n",
    "from google.colab import files #Librería necesaria para interactuar con archivos en Colab"
   ]
  },
  {
   "cell_type": "code",
   "execution_count": 4,
   "metadata": {
    "colab": {
     "base_uri": "https://localhost:8080/",
     "height": 156
    },
    "colab_type": "code",
    "executionInfo": {
     "elapsed": 1153,
     "status": "ok",
     "timestamp": 1582143574043,
     "user": {
      "displayName": "Giuseppe Roa Osorio",
      "photoUrl": "https://lh3.googleusercontent.com/a-/AAuE7mC2PXAnx49WQQug7vKYNjHtgA8L5kRYyaS3zXbiSw=s64",
      "userId": "10412573325603630307"
     },
     "user_tz": 300
    },
    "id": "lUUfMdJ3rnXz",
    "outputId": "f85ad6e6-f7d8-4896-c507-6c924053a7db"
   },
   "outputs": [
    {
     "data": {
      "text/html": [
       "<div>\n",
       "<style scoped>\n",
       "    .dataframe tbody tr th:only-of-type {\n",
       "        vertical-align: middle;\n",
       "    }\n",
       "\n",
       "    .dataframe tbody tr th {\n",
       "        vertical-align: top;\n",
       "    }\n",
       "\n",
       "    .dataframe thead th {\n",
       "        text-align: right;\n",
       "    }\n",
       "</style>\n",
       "<table border=\"1\" class=\"dataframe\">\n",
       "  <thead>\n",
       "    <tr style=\"text-align: right;\">\n",
       "      <th></th>\n",
       "      <th>year</th>\n",
       "      <th>manufacturer</th>\n",
       "      <th>condition</th>\n",
       "      <th>cylinders</th>\n",
       "      <th>fuel</th>\n",
       "      <th>title_status</th>\n",
       "      <th>transmission</th>\n",
       "      <th>drive</th>\n",
       "      <th>size</th>\n",
       "      <th>type</th>\n",
       "      <th>paint_color</th>\n",
       "      <th>price</th>\n",
       "    </tr>\n",
       "  </thead>\n",
       "  <tbody>\n",
       "    <tr>\n",
       "      <th>0</th>\n",
       "      <td>2009</td>\n",
       "      <td>chevrolet</td>\n",
       "      <td>good</td>\n",
       "      <td>8 cylinders</td>\n",
       "      <td>gas</td>\n",
       "      <td>clean</td>\n",
       "      <td>automatic</td>\n",
       "      <td>rwd</td>\n",
       "      <td>full-size</td>\n",
       "      <td>SUV</td>\n",
       "      <td>white</td>\n",
       "      <td>9000</td>\n",
       "    </tr>\n",
       "    <tr>\n",
       "      <th>1</th>\n",
       "      <td>2002</td>\n",
       "      <td>gmc</td>\n",
       "      <td>good</td>\n",
       "      <td>8 cylinders</td>\n",
       "      <td>gas</td>\n",
       "      <td>clean</td>\n",
       "      <td>automatic</td>\n",
       "      <td>4wd</td>\n",
       "      <td>NaN</td>\n",
       "      <td>pickup</td>\n",
       "      <td>white</td>\n",
       "      <td>6000</td>\n",
       "    </tr>\n",
       "    <tr>\n",
       "      <th>2</th>\n",
       "      <td>2007</td>\n",
       "      <td>pontiac</td>\n",
       "      <td>excellent</td>\n",
       "      <td>4 cylinders</td>\n",
       "      <td>gas</td>\n",
       "      <td>clean</td>\n",
       "      <td>automatic</td>\n",
       "      <td>fwd</td>\n",
       "      <td>compact</td>\n",
       "      <td>convertible</td>\n",
       "      <td>red</td>\n",
       "      <td>7000</td>\n",
       "    </tr>\n",
       "  </tbody>\n",
       "</table>\n",
       "</div>"
      ],
      "text/plain": [
       "   year manufacturer  condition  ...         type paint_color price\n",
       "0  2009    chevrolet       good  ...          SUV       white  9000\n",
       "1  2002          gmc       good  ...       pickup       white  6000\n",
       "2  2007      pontiac  excellent  ...  convertible         red  7000\n",
       "\n",
       "[3 rows x 12 columns]"
      ]
     },
     "execution_count": 4,
     "metadata": {
      "tags": []
     },
     "output_type": "execute_result"
    }
   ],
   "source": [
    "#uploaded = files.upload()\n",
    "#cars = pd.read_csv(io.StringIO(uploaded['Craiglist_Cars.csv'].decode('utf-8')), sep = ',' )\n",
    "cars = pd.read_csv('Craiglist_Cars.csv', sep = ',' )\n",
    "cars.head(3)"
   ]
  },
  {
   "cell_type": "markdown",
   "metadata": {
    "colab_type": "text",
    "id": "cSWTI9p6ZH9O"
   },
   "source": [
    "#1. Evalua la cantidad, tipo y completitud de las variables disponibles. \n",
    "\n"
   ]
  },
  {
   "cell_type": "code",
   "execution_count": 5,
   "metadata": {
    "colab": {
     "base_uri": "https://localhost:8080/",
     "height": 252
    },
    "colab_type": "code",
    "executionInfo": {
     "elapsed": 1355,
     "status": "ok",
     "timestamp": 1582143579869,
     "user": {
      "displayName": "Giuseppe Roa Osorio",
      "photoUrl": "https://lh3.googleusercontent.com/a-/AAuE7mC2PXAnx49WQQug7vKYNjHtgA8L5kRYyaS3zXbiSw=s64",
      "userId": "10412573325603630307"
     },
     "user_tz": 300
    },
    "id": "B6Lu6dsRBOob",
    "outputId": "4e873fe6-5383-4f63-ec39-7e80a3935c02"
   },
   "outputs": [
    {
     "name": "stdout",
     "output_type": "stream",
     "text": [
      "(434542, 12)\n"
     ]
    },
    {
     "data": {
      "text/plain": [
       "year             0.000000\n",
       "manufacturer     3.646138\n",
       "condition       36.860649\n",
       "cylinders       28.306355\n",
       "fuel             0.839505\n",
       "title_status     0.662997\n",
       "transmission     0.989087\n",
       "drive           13.280189\n",
       "size            58.133621\n",
       "type            11.566661\n",
       "paint_color     19.734571\n",
       "price            0.000000\n",
       "dtype: float64"
      ]
     },
     "execution_count": 5,
     "metadata": {
      "tags": []
     },
     "output_type": "execute_result"
    }
   ],
   "source": [
    "print(cars.shape)\n",
    "100*cars.isnull().sum()/cars.shape[0]"
   ]
  },
  {
   "cell_type": "code",
   "execution_count": 6,
   "metadata": {
    "colab": {
     "base_uri": "https://localhost:8080/",
     "height": 84
    },
    "colab_type": "code",
    "executionInfo": {
     "elapsed": 407,
     "status": "ok",
     "timestamp": 1582143636236,
     "user": {
      "displayName": "Giuseppe Roa Osorio",
      "photoUrl": "https://lh3.googleusercontent.com/a-/AAuE7mC2PXAnx49WQQug7vKYNjHtgA8L5kRYyaS3zXbiSw=s64",
      "userId": "10412573325603630307"
     },
     "user_tz": 300
    },
    "id": "8cYAAJxXBr2b",
    "outputId": "a8c26dbb-4dfe-4311-df1a-2706d22439cf"
   },
   "outputs": [
    {
     "name": "stdout",
     "output_type": "stream",
     "text": [
      "0\n",
      "int64      2\n",
      "object    10\n",
      "dtype: int64\n"
     ]
    }
   ],
   "source": [
    "types = pd.DataFrame(cars.dtypes)\n",
    "print(types.groupby(0).size())"
   ]
  },
  {
   "cell_type": "code",
   "execution_count": 7,
   "metadata": {
    "colab": {
     "base_uri": "https://localhost:8080/",
     "height": 185
    },
    "colab_type": "code",
    "executionInfo": {
     "elapsed": 1352,
     "status": "ok",
     "timestamp": 1582143663126,
     "user": {
      "displayName": "Giuseppe Roa Osorio",
      "photoUrl": "https://lh3.googleusercontent.com/a-/AAuE7mC2PXAnx49WQQug7vKYNjHtgA8L5kRYyaS3zXbiSw=s64",
      "userId": "10412573325603630307"
     },
     "user_tz": 300
    },
    "id": "07gsnrCtHL7e",
    "outputId": "7ba559a1-6d02-479c-ca41-42524c52d8c3"
   },
   "outputs": [
    {
     "name": "stdout",
     "output_type": "stream",
     "text": [
      "La variable manufacturer contiene: 43 distinct values\n",
      "La variable condition contiene: 7 distinct values\n",
      "La variable cylinders contiene: 9 distinct values\n",
      "La variable fuel contiene: 6 distinct values\n",
      "La variable title_status contiene: 7 distinct values\n",
      "La variable transmission contiene: 4 distinct values\n",
      "La variable drive contiene: 4 distinct values\n",
      "La variable size contiene: 5 distinct values\n",
      "La variable type contiene: 14 distinct values\n",
      "La variable paint_color contiene: 13 distinct values\n"
     ]
    }
   ],
   "source": [
    "categoricas = types.index[types[0] == 'O'].values\n",
    "for line in categoricas:\n",
    " print(\"La variable \"+ line +\" contiene:\",str(len(cars[line].unique()))+\" distinct values\")"
   ]
  },
  {
   "cell_type": "code",
   "execution_count": 0,
   "metadata": {
    "colab": {},
    "colab_type": "code",
    "id": "uYilrpGZHgWe"
   },
   "outputs": [],
   "source": [
    "###Coloca tu código aquí"
   ]
  },
  {
   "cell_type": "markdown",
   "metadata": {
    "colab_type": "text",
    "id": "B9_dNCTum1Hw"
   },
   "source": [
    "<h1 id=\"ingenieria\">Ingeniería de datos</h1>\n",
    "\n",
    "Ahora se debe preparar la información para poder alimentar la red neuronal."
   ]
  },
  {
   "cell_type": "markdown",
   "metadata": {
    "colab_type": "text",
    "id": "vRCjvmPz63n7"
   },
   "source": [
    "# 2. Implementa estrategías para tratar la información nula en las variables cuya tasa de nulos sea máximo el 10%"
   ]
  },
  {
   "cell_type": "code",
   "execution_count": 0,
   "metadata": {
    "colab": {},
    "colab_type": "code",
    "id": "hVNrQiqFO78K"
   },
   "outputs": [],
   "source": [
    "cars[\"fuel\"] = cars[\"fuel\"].fillna(cars[\"fuel\"].mode()[0])"
   ]
  },
  {
   "cell_type": "code",
   "execution_count": 9,
   "metadata": {
    "colab": {
     "base_uri": "https://localhost:8080/",
     "height": 252
    },
    "colab_type": "code",
    "executionInfo": {
     "elapsed": 723,
     "status": "ok",
     "timestamp": 1582143779358,
     "user": {
      "displayName": "Giuseppe Roa Osorio",
      "photoUrl": "https://lh3.googleusercontent.com/a-/AAuE7mC2PXAnx49WQQug7vKYNjHtgA8L5kRYyaS3zXbiSw=s64",
      "userId": "10412573325603630307"
     },
     "user_tz": 300
    },
    "id": "OK1S1PqgHgN6",
    "outputId": "1f4f45b3-5162-4662-fe91-e84909212875"
   },
   "outputs": [
    {
     "name": "stdout",
     "output_type": "stream",
     "text": [
      "(434542, 12)\n"
     ]
    },
    {
     "data": {
      "text/plain": [
       "year             0.000000\n",
       "manufacturer     3.646138\n",
       "condition       36.860649\n",
       "cylinders       28.306355\n",
       "fuel             0.000000\n",
       "title_status     0.662997\n",
       "transmission     0.989087\n",
       "drive           13.280189\n",
       "size            58.133621\n",
       "type            11.566661\n",
       "paint_color     19.734571\n",
       "price            0.000000\n",
       "dtype: float64"
      ]
     },
     "execution_count": 9,
     "metadata": {
      "tags": []
     },
     "output_type": "execute_result"
    }
   ],
   "source": [
    "print(cars.shape)\n",
    "100*cars.isnull().sum()/cars.shape[0]"
   ]
  },
  {
   "cell_type": "code",
   "execution_count": 10,
   "metadata": {
    "colab": {
     "base_uri": "https://localhost:8080/",
     "height": 235
    },
    "colab_type": "code",
    "executionInfo": {
     "elapsed": 788,
     "status": "ok",
     "timestamp": 1582143799115,
     "user": {
      "displayName": "Giuseppe Roa Osorio",
      "photoUrl": "https://lh3.googleusercontent.com/a-/AAuE7mC2PXAnx49WQQug7vKYNjHtgA8L5kRYyaS3zXbiSw=s64",
      "userId": "10412573325603630307"
     },
     "user_tz": 300
    },
    "id": "XonBwc4GHkox",
    "outputId": "781c8315-3478-4332-82db-e9fa86587e2e"
   },
   "outputs": [
    {
     "data": {
      "text/plain": [
       "year             0.000000\n",
       "manufacturer     0.000000\n",
       "condition       36.860649\n",
       "cylinders       28.306355\n",
       "fuel             0.000000\n",
       "title_status     0.000000\n",
       "transmission     0.000000\n",
       "drive           13.280189\n",
       "size            58.133621\n",
       "type            11.566661\n",
       "paint_color     19.734571\n",
       "price            0.000000\n",
       "dtype: float64"
      ]
     },
     "execution_count": 10,
     "metadata": {
      "tags": []
     },
     "output_type": "execute_result"
    }
   ],
   "source": [
    "cars[\"title_status\"] = cars[\"title_status\"].fillna(cars[\"title_status\"].mode()[0])\n",
    "cars[\"transmission\"] = cars[\"transmission\"].fillna(cars[\"transmission\"].mode()[0])\n",
    "cars[\"manufacturer\"] = cars[\"manufacturer\"].fillna(cars[\"manufacturer\"].mode()[0])\n",
    "#Verificamos el cambio\n",
    "100*cars.isnull().sum()/cars.shape[0]"
   ]
  },
  {
   "cell_type": "markdown",
   "metadata": {
    "colab_type": "text",
    "id": "CtshbEQa7aRW"
   },
   "source": [
    "Luego del procedimiento anterior se debe proceder a convertir las variables categoricas en variables numericas. Durante el curso implementamos un método de One Hot Encoding disponible en Scikit Learn. En este caso utilizaremos una funcionalidad embedida en Pandas denominada [\"get_dummies\"](https://pandas.pydata.org/pandas-docs/stable/reference/api/pandas.get_dummies.html):"
   ]
  },
  {
   "cell_type": "code",
   "execution_count": 11,
   "metadata": {
    "colab": {
     "base_uri": "https://localhost:8080/",
     "height": 218
    },
    "colab_type": "code",
    "executionInfo": {
     "elapsed": 4422,
     "status": "ok",
     "timestamp": 1582143826938,
     "user": {
      "displayName": "Giuseppe Roa Osorio",
      "photoUrl": "https://lh3.googleusercontent.com/a-/AAuE7mC2PXAnx49WQQug7vKYNjHtgA8L5kRYyaS3zXbiSw=s64",
      "userId": "10412573325603630307"
     },
     "user_tz": 300
    },
    "id": "ZEtEYD5DS1iI",
    "outputId": "5b04b046-27ff-40e9-8d83-2faec09da60d"
   },
   "outputs": [
    {
     "name": "stdout",
     "output_type": "stream",
     "text": [
      "(434542, 100)\n"
     ]
    },
    {
     "data": {
      "text/html": [
       "<div>\n",
       "<style scoped>\n",
       "    .dataframe tbody tr th:only-of-type {\n",
       "        vertical-align: middle;\n",
       "    }\n",
       "\n",
       "    .dataframe tbody tr th {\n",
       "        vertical-align: top;\n",
       "    }\n",
       "\n",
       "    .dataframe thead th {\n",
       "        text-align: right;\n",
       "    }\n",
       "</style>\n",
       "<table border=\"1\" class=\"dataframe\">\n",
       "  <thead>\n",
       "    <tr style=\"text-align: right;\">\n",
       "      <th></th>\n",
       "      <th>year</th>\n",
       "      <th>price</th>\n",
       "      <th>acura</th>\n",
       "      <th>alfa-romeo</th>\n",
       "      <th>aston-martin</th>\n",
       "      <th>audi</th>\n",
       "      <th>bmw</th>\n",
       "      <th>buick</th>\n",
       "      <th>cadillac</th>\n",
       "      <th>chevrolet</th>\n",
       "      <th>chrysler</th>\n",
       "      <th>datsun</th>\n",
       "      <th>dodge</th>\n",
       "      <th>ferrari</th>\n",
       "      <th>fiat</th>\n",
       "      <th>ford</th>\n",
       "      <th>gmc</th>\n",
       "      <th>harley-davidson</th>\n",
       "      <th>hennessey</th>\n",
       "      <th>honda</th>\n",
       "      <th>hyundai</th>\n",
       "      <th>infiniti</th>\n",
       "      <th>jaguar</th>\n",
       "      <th>jeep</th>\n",
       "      <th>kia</th>\n",
       "      <th>land rover</th>\n",
       "      <th>lexus</th>\n",
       "      <th>lincoln</th>\n",
       "      <th>mazda</th>\n",
       "      <th>mercedes-benz</th>\n",
       "      <th>mercury</th>\n",
       "      <th>mini</th>\n",
       "      <th>mitsubishi</th>\n",
       "      <th>morgan</th>\n",
       "      <th>nissan</th>\n",
       "      <th>pontiac</th>\n",
       "      <th>porche</th>\n",
       "      <th>ram</th>\n",
       "      <th>rover</th>\n",
       "      <th>saturn</th>\n",
       "      <th>...</th>\n",
       "      <th>hybrid</th>\n",
       "      <th>clean</th>\n",
       "      <th>lien</th>\n",
       "      <th>missing</th>\n",
       "      <th>parts only</th>\n",
       "      <th>rebuilt</th>\n",
       "      <th>salvage</th>\n",
       "      <th>automatic</th>\n",
       "      <th>manual</th>\n",
       "      <th>4wd</th>\n",
       "      <th>fwd</th>\n",
       "      <th>rwd</th>\n",
       "      <th>compact</th>\n",
       "      <th>full-size</th>\n",
       "      <th>mid-size</th>\n",
       "      <th>sub-compact</th>\n",
       "      <th>SUV</th>\n",
       "      <th>bus</th>\n",
       "      <th>convertible</th>\n",
       "      <th>coupe</th>\n",
       "      <th>hatchback</th>\n",
       "      <th>mini-van</th>\n",
       "      <th>offroad</th>\n",
       "      <th>pickup</th>\n",
       "      <th>sedan</th>\n",
       "      <th>truck</th>\n",
       "      <th>van</th>\n",
       "      <th>wagon</th>\n",
       "      <th>black</th>\n",
       "      <th>blue</th>\n",
       "      <th>brown</th>\n",
       "      <th>custom</th>\n",
       "      <th>green</th>\n",
       "      <th>grey</th>\n",
       "      <th>orange</th>\n",
       "      <th>purple</th>\n",
       "      <th>red</th>\n",
       "      <th>silver</th>\n",
       "      <th>white</th>\n",
       "      <th>yellow</th>\n",
       "    </tr>\n",
       "  </thead>\n",
       "  <tbody>\n",
       "    <tr>\n",
       "      <th>0</th>\n",
       "      <td>2009</td>\n",
       "      <td>9000</td>\n",
       "      <td>0</td>\n",
       "      <td>0</td>\n",
       "      <td>0</td>\n",
       "      <td>0</td>\n",
       "      <td>0</td>\n",
       "      <td>0</td>\n",
       "      <td>0</td>\n",
       "      <td>1</td>\n",
       "      <td>0</td>\n",
       "      <td>0</td>\n",
       "      <td>0</td>\n",
       "      <td>0</td>\n",
       "      <td>0</td>\n",
       "      <td>0</td>\n",
       "      <td>0</td>\n",
       "      <td>0</td>\n",
       "      <td>0</td>\n",
       "      <td>0</td>\n",
       "      <td>0</td>\n",
       "      <td>0</td>\n",
       "      <td>0</td>\n",
       "      <td>0</td>\n",
       "      <td>0</td>\n",
       "      <td>0</td>\n",
       "      <td>0</td>\n",
       "      <td>0</td>\n",
       "      <td>0</td>\n",
       "      <td>0</td>\n",
       "      <td>0</td>\n",
       "      <td>0</td>\n",
       "      <td>0</td>\n",
       "      <td>0</td>\n",
       "      <td>0</td>\n",
       "      <td>0</td>\n",
       "      <td>0</td>\n",
       "      <td>0</td>\n",
       "      <td>0</td>\n",
       "      <td>0</td>\n",
       "      <td>...</td>\n",
       "      <td>0</td>\n",
       "      <td>1</td>\n",
       "      <td>0</td>\n",
       "      <td>0</td>\n",
       "      <td>0</td>\n",
       "      <td>0</td>\n",
       "      <td>0</td>\n",
       "      <td>1</td>\n",
       "      <td>0</td>\n",
       "      <td>0</td>\n",
       "      <td>0</td>\n",
       "      <td>1</td>\n",
       "      <td>0</td>\n",
       "      <td>1</td>\n",
       "      <td>0</td>\n",
       "      <td>0</td>\n",
       "      <td>1</td>\n",
       "      <td>0</td>\n",
       "      <td>0</td>\n",
       "      <td>0</td>\n",
       "      <td>0</td>\n",
       "      <td>0</td>\n",
       "      <td>0</td>\n",
       "      <td>0</td>\n",
       "      <td>0</td>\n",
       "      <td>0</td>\n",
       "      <td>0</td>\n",
       "      <td>0</td>\n",
       "      <td>0</td>\n",
       "      <td>0</td>\n",
       "      <td>0</td>\n",
       "      <td>0</td>\n",
       "      <td>0</td>\n",
       "      <td>0</td>\n",
       "      <td>0</td>\n",
       "      <td>0</td>\n",
       "      <td>0</td>\n",
       "      <td>0</td>\n",
       "      <td>1</td>\n",
       "      <td>0</td>\n",
       "    </tr>\n",
       "    <tr>\n",
       "      <th>1</th>\n",
       "      <td>2002</td>\n",
       "      <td>6000</td>\n",
       "      <td>0</td>\n",
       "      <td>0</td>\n",
       "      <td>0</td>\n",
       "      <td>0</td>\n",
       "      <td>0</td>\n",
       "      <td>0</td>\n",
       "      <td>0</td>\n",
       "      <td>0</td>\n",
       "      <td>0</td>\n",
       "      <td>0</td>\n",
       "      <td>0</td>\n",
       "      <td>0</td>\n",
       "      <td>0</td>\n",
       "      <td>0</td>\n",
       "      <td>1</td>\n",
       "      <td>0</td>\n",
       "      <td>0</td>\n",
       "      <td>0</td>\n",
       "      <td>0</td>\n",
       "      <td>0</td>\n",
       "      <td>0</td>\n",
       "      <td>0</td>\n",
       "      <td>0</td>\n",
       "      <td>0</td>\n",
       "      <td>0</td>\n",
       "      <td>0</td>\n",
       "      <td>0</td>\n",
       "      <td>0</td>\n",
       "      <td>0</td>\n",
       "      <td>0</td>\n",
       "      <td>0</td>\n",
       "      <td>0</td>\n",
       "      <td>0</td>\n",
       "      <td>0</td>\n",
       "      <td>0</td>\n",
       "      <td>0</td>\n",
       "      <td>0</td>\n",
       "      <td>0</td>\n",
       "      <td>...</td>\n",
       "      <td>0</td>\n",
       "      <td>1</td>\n",
       "      <td>0</td>\n",
       "      <td>0</td>\n",
       "      <td>0</td>\n",
       "      <td>0</td>\n",
       "      <td>0</td>\n",
       "      <td>1</td>\n",
       "      <td>0</td>\n",
       "      <td>1</td>\n",
       "      <td>0</td>\n",
       "      <td>0</td>\n",
       "      <td>0</td>\n",
       "      <td>0</td>\n",
       "      <td>0</td>\n",
       "      <td>0</td>\n",
       "      <td>0</td>\n",
       "      <td>0</td>\n",
       "      <td>0</td>\n",
       "      <td>0</td>\n",
       "      <td>0</td>\n",
       "      <td>0</td>\n",
       "      <td>0</td>\n",
       "      <td>1</td>\n",
       "      <td>0</td>\n",
       "      <td>0</td>\n",
       "      <td>0</td>\n",
       "      <td>0</td>\n",
       "      <td>0</td>\n",
       "      <td>0</td>\n",
       "      <td>0</td>\n",
       "      <td>0</td>\n",
       "      <td>0</td>\n",
       "      <td>0</td>\n",
       "      <td>0</td>\n",
       "      <td>0</td>\n",
       "      <td>0</td>\n",
       "      <td>0</td>\n",
       "      <td>1</td>\n",
       "      <td>0</td>\n",
       "    </tr>\n",
       "    <tr>\n",
       "      <th>2</th>\n",
       "      <td>2007</td>\n",
       "      <td>7000</td>\n",
       "      <td>0</td>\n",
       "      <td>0</td>\n",
       "      <td>0</td>\n",
       "      <td>0</td>\n",
       "      <td>0</td>\n",
       "      <td>0</td>\n",
       "      <td>0</td>\n",
       "      <td>0</td>\n",
       "      <td>0</td>\n",
       "      <td>0</td>\n",
       "      <td>0</td>\n",
       "      <td>0</td>\n",
       "      <td>0</td>\n",
       "      <td>0</td>\n",
       "      <td>0</td>\n",
       "      <td>0</td>\n",
       "      <td>0</td>\n",
       "      <td>0</td>\n",
       "      <td>0</td>\n",
       "      <td>0</td>\n",
       "      <td>0</td>\n",
       "      <td>0</td>\n",
       "      <td>0</td>\n",
       "      <td>0</td>\n",
       "      <td>0</td>\n",
       "      <td>0</td>\n",
       "      <td>0</td>\n",
       "      <td>0</td>\n",
       "      <td>0</td>\n",
       "      <td>0</td>\n",
       "      <td>0</td>\n",
       "      <td>0</td>\n",
       "      <td>0</td>\n",
       "      <td>1</td>\n",
       "      <td>0</td>\n",
       "      <td>0</td>\n",
       "      <td>0</td>\n",
       "      <td>0</td>\n",
       "      <td>...</td>\n",
       "      <td>0</td>\n",
       "      <td>1</td>\n",
       "      <td>0</td>\n",
       "      <td>0</td>\n",
       "      <td>0</td>\n",
       "      <td>0</td>\n",
       "      <td>0</td>\n",
       "      <td>1</td>\n",
       "      <td>0</td>\n",
       "      <td>0</td>\n",
       "      <td>1</td>\n",
       "      <td>0</td>\n",
       "      <td>1</td>\n",
       "      <td>0</td>\n",
       "      <td>0</td>\n",
       "      <td>0</td>\n",
       "      <td>0</td>\n",
       "      <td>0</td>\n",
       "      <td>1</td>\n",
       "      <td>0</td>\n",
       "      <td>0</td>\n",
       "      <td>0</td>\n",
       "      <td>0</td>\n",
       "      <td>0</td>\n",
       "      <td>0</td>\n",
       "      <td>0</td>\n",
       "      <td>0</td>\n",
       "      <td>0</td>\n",
       "      <td>0</td>\n",
       "      <td>0</td>\n",
       "      <td>0</td>\n",
       "      <td>0</td>\n",
       "      <td>0</td>\n",
       "      <td>0</td>\n",
       "      <td>0</td>\n",
       "      <td>0</td>\n",
       "      <td>1</td>\n",
       "      <td>0</td>\n",
       "      <td>0</td>\n",
       "      <td>0</td>\n",
       "    </tr>\n",
       "  </tbody>\n",
       "</table>\n",
       "<p>3 rows × 100 columns</p>\n",
       "</div>"
      ],
      "text/plain": [
       "   year  price  acura  alfa-romeo  ...  red  silver  white  yellow\n",
       "0  2009   9000      0           0  ...    0       0      1       0\n",
       "1  2002   6000      0           0  ...    0       0      1       0\n",
       "2  2007   7000      0           0  ...    1       0      0       0\n",
       "\n",
       "[3 rows x 100 columns]"
      ]
     },
     "execution_count": 11,
     "metadata": {
      "tags": []
     },
     "output_type": "execute_result"
    }
   ],
   "source": [
    "df= cars.copy()\n",
    "for col in categoricas:\n",
    "    df = pd.concat([df, (pd.get_dummies(df[col])).astype(int)], axis=1)\n",
    "    df.drop(columns=[col],inplace=True)\n",
    "#Al crear las variables dummies se crean varias columnas referentes a categorias\n",
    "# 'other' que no aportan ningún valor al dataset por lo cual las eliminamos\n",
    "df.drop('other', axis=1, inplace=True)\n",
    "print(df.shape)\n",
    "df.head(3)"
   ]
  },
  {
   "cell_type": "code",
   "execution_count": 12,
   "metadata": {
    "colab": {
     "base_uri": "https://localhost:8080/",
     "height": 67
    },
    "colab_type": "code",
    "executionInfo": {
     "elapsed": 1303,
     "status": "ok",
     "timestamp": 1582143877248,
     "user": {
      "displayName": "Giuseppe Roa Osorio",
      "photoUrl": "https://lh3.googleusercontent.com/a-/AAuE7mC2PXAnx49WQQug7vKYNjHtgA8L5kRYyaS3zXbiSw=s64",
      "userId": "10412573325603630307"
     },
     "user_tz": 300
    },
    "id": "5Iesa56hVz8s",
    "outputId": "29964603-b4e7-4842-f4a7-c9aec8990183"
   },
   "outputs": [
    {
     "name": "stdout",
     "output_type": "stream",
     "text": [
      "Tipos de variables 0\n",
      "int64    100\n",
      "dtype: int64\n"
     ]
    }
   ],
   "source": [
    "types = pd.DataFrame(df.dtypes)\n",
    "print(\"Tipos de variables\",types.groupby(0).size())"
   ]
  },
  {
   "cell_type": "code",
   "execution_count": 13,
   "metadata": {
    "colab": {
     "base_uri": "https://localhost:8080/",
     "height": 202
    },
    "colab_type": "code",
    "executionInfo": {
     "elapsed": 1156,
     "status": "ok",
     "timestamp": 1582143926302,
     "user": {
      "displayName": "Giuseppe Roa Osorio",
      "photoUrl": "https://lh3.googleusercontent.com/a-/AAuE7mC2PXAnx49WQQug7vKYNjHtgA8L5kRYyaS3zXbiSw=s64",
      "userId": "10412573325603630307"
     },
     "user_tz": 300
    },
    "id": "d-Isxxj2wzPX",
    "outputId": "c3a12519-4eee-4269-c453-7ef1f4b21dba"
   },
   "outputs": [
    {
     "data": {
      "text/html": [
       "<div>\n",
       "<style scoped>\n",
       "    .dataframe tbody tr th:only-of-type {\n",
       "        vertical-align: middle;\n",
       "    }\n",
       "\n",
       "    .dataframe tbody tr th {\n",
       "        vertical-align: top;\n",
       "    }\n",
       "\n",
       "    .dataframe thead th {\n",
       "        text-align: right;\n",
       "    }\n",
       "</style>\n",
       "<table border=\"1\" class=\"dataframe\">\n",
       "  <thead>\n",
       "    <tr style=\"text-align: right;\">\n",
       "      <th></th>\n",
       "      <th>custom</th>\n",
       "      <th>datsun</th>\n",
       "      <th>orange</th>\n",
       "      <th>cadillac</th>\n",
       "      <th>pontiac</th>\n",
       "      <th>aston-martin</th>\n",
       "      <th>bmw</th>\n",
       "      <th>nissan</th>\n",
       "      <th>acura</th>\n",
       "      <th>manual</th>\n",
       "      <th>yellow</th>\n",
       "      <th>rover</th>\n",
       "      <th>clean</th>\n",
       "      <th>infiniti</th>\n",
       "      <th>lexus</th>\n",
       "      <th>diesel</th>\n",
       "      <th>parts only</th>\n",
       "      <th>mercedes-benz</th>\n",
       "      <th>mini-van</th>\n",
       "      <th>saturn</th>\n",
       "      <th>ram</th>\n",
       "      <th>blue</th>\n",
       "      <th>mini</th>\n",
       "      <th>6 cylinders</th>\n",
       "      <th>10 cylinders</th>\n",
       "      <th>mid-size</th>\n",
       "      <th>gmc</th>\n",
       "      <th>ford</th>\n",
       "      <th>buick</th>\n",
       "      <th>land rover</th>\n",
       "      <th>jaguar</th>\n",
       "      <th>dodge</th>\n",
       "      <th>fiat</th>\n",
       "      <th>4wd</th>\n",
       "      <th>sedan</th>\n",
       "      <th>wagon</th>\n",
       "      <th>jeep</th>\n",
       "      <th>bus</th>\n",
       "      <th>mazda</th>\n",
       "      <th>chevrolet</th>\n",
       "      <th>...</th>\n",
       "      <th>alfa-romeo</th>\n",
       "      <th>excellent</th>\n",
       "      <th>morgan</th>\n",
       "      <th>pickup</th>\n",
       "      <th>grey</th>\n",
       "      <th>year</th>\n",
       "      <th>rwd</th>\n",
       "      <th>van</th>\n",
       "      <th>white</th>\n",
       "      <th>mitsubishi</th>\n",
       "      <th>electric</th>\n",
       "      <th>8 cylinders</th>\n",
       "      <th>hybrid</th>\n",
       "      <th>silver</th>\n",
       "      <th>compact</th>\n",
       "      <th>honda</th>\n",
       "      <th>convertible</th>\n",
       "      <th>toyota</th>\n",
       "      <th>good</th>\n",
       "      <th>rebuilt</th>\n",
       "      <th>porche</th>\n",
       "      <th>12 cylinders</th>\n",
       "      <th>black</th>\n",
       "      <th>full-size</th>\n",
       "      <th>SUV</th>\n",
       "      <th>fwd</th>\n",
       "      <th>salvage</th>\n",
       "      <th>salvage</th>\n",
       "      <th>lincoln</th>\n",
       "      <th>like new</th>\n",
       "      <th>new</th>\n",
       "      <th>4 cylinders</th>\n",
       "      <th>truck</th>\n",
       "      <th>hyundai</th>\n",
       "      <th>chrysler</th>\n",
       "      <th>gas</th>\n",
       "      <th>offroad</th>\n",
       "      <th>subaru</th>\n",
       "      <th>red</th>\n",
       "      <th>audi</th>\n",
       "    </tr>\n",
       "  </thead>\n",
       "  <tbody>\n",
       "    <tr>\n",
       "      <th>0</th>\n",
       "      <td>0</td>\n",
       "      <td>0</td>\n",
       "      <td>0</td>\n",
       "      <td>0</td>\n",
       "      <td>0</td>\n",
       "      <td>0</td>\n",
       "      <td>0</td>\n",
       "      <td>0</td>\n",
       "      <td>0</td>\n",
       "      <td>0</td>\n",
       "      <td>0</td>\n",
       "      <td>0</td>\n",
       "      <td>1</td>\n",
       "      <td>0</td>\n",
       "      <td>0</td>\n",
       "      <td>0</td>\n",
       "      <td>0</td>\n",
       "      <td>0</td>\n",
       "      <td>0</td>\n",
       "      <td>0</td>\n",
       "      <td>0</td>\n",
       "      <td>0</td>\n",
       "      <td>0</td>\n",
       "      <td>0</td>\n",
       "      <td>0</td>\n",
       "      <td>0</td>\n",
       "      <td>0</td>\n",
       "      <td>0</td>\n",
       "      <td>0</td>\n",
       "      <td>0</td>\n",
       "      <td>0</td>\n",
       "      <td>0</td>\n",
       "      <td>0</td>\n",
       "      <td>0</td>\n",
       "      <td>0</td>\n",
       "      <td>0</td>\n",
       "      <td>0</td>\n",
       "      <td>0</td>\n",
       "      <td>0</td>\n",
       "      <td>1</td>\n",
       "      <td>...</td>\n",
       "      <td>0</td>\n",
       "      <td>0</td>\n",
       "      <td>0</td>\n",
       "      <td>0</td>\n",
       "      <td>0</td>\n",
       "      <td>2009</td>\n",
       "      <td>1</td>\n",
       "      <td>0</td>\n",
       "      <td>1</td>\n",
       "      <td>0</td>\n",
       "      <td>0</td>\n",
       "      <td>1</td>\n",
       "      <td>0</td>\n",
       "      <td>0</td>\n",
       "      <td>0</td>\n",
       "      <td>0</td>\n",
       "      <td>0</td>\n",
       "      <td>0</td>\n",
       "      <td>1</td>\n",
       "      <td>0</td>\n",
       "      <td>0</td>\n",
       "      <td>0</td>\n",
       "      <td>0</td>\n",
       "      <td>1</td>\n",
       "      <td>1</td>\n",
       "      <td>0</td>\n",
       "      <td>0</td>\n",
       "      <td>0</td>\n",
       "      <td>0</td>\n",
       "      <td>0</td>\n",
       "      <td>0</td>\n",
       "      <td>0</td>\n",
       "      <td>0</td>\n",
       "      <td>0</td>\n",
       "      <td>0</td>\n",
       "      <td>1</td>\n",
       "      <td>0</td>\n",
       "      <td>0</td>\n",
       "      <td>0</td>\n",
       "      <td>0</td>\n",
       "    </tr>\n",
       "    <tr>\n",
       "      <th>1</th>\n",
       "      <td>0</td>\n",
       "      <td>0</td>\n",
       "      <td>0</td>\n",
       "      <td>0</td>\n",
       "      <td>0</td>\n",
       "      <td>0</td>\n",
       "      <td>0</td>\n",
       "      <td>0</td>\n",
       "      <td>0</td>\n",
       "      <td>0</td>\n",
       "      <td>0</td>\n",
       "      <td>0</td>\n",
       "      <td>1</td>\n",
       "      <td>0</td>\n",
       "      <td>0</td>\n",
       "      <td>0</td>\n",
       "      <td>0</td>\n",
       "      <td>0</td>\n",
       "      <td>0</td>\n",
       "      <td>0</td>\n",
       "      <td>0</td>\n",
       "      <td>0</td>\n",
       "      <td>0</td>\n",
       "      <td>0</td>\n",
       "      <td>0</td>\n",
       "      <td>0</td>\n",
       "      <td>1</td>\n",
       "      <td>0</td>\n",
       "      <td>0</td>\n",
       "      <td>0</td>\n",
       "      <td>0</td>\n",
       "      <td>0</td>\n",
       "      <td>0</td>\n",
       "      <td>1</td>\n",
       "      <td>0</td>\n",
       "      <td>0</td>\n",
       "      <td>0</td>\n",
       "      <td>0</td>\n",
       "      <td>0</td>\n",
       "      <td>0</td>\n",
       "      <td>...</td>\n",
       "      <td>0</td>\n",
       "      <td>0</td>\n",
       "      <td>0</td>\n",
       "      <td>1</td>\n",
       "      <td>0</td>\n",
       "      <td>2002</td>\n",
       "      <td>0</td>\n",
       "      <td>0</td>\n",
       "      <td>1</td>\n",
       "      <td>0</td>\n",
       "      <td>0</td>\n",
       "      <td>1</td>\n",
       "      <td>0</td>\n",
       "      <td>0</td>\n",
       "      <td>0</td>\n",
       "      <td>0</td>\n",
       "      <td>0</td>\n",
       "      <td>0</td>\n",
       "      <td>1</td>\n",
       "      <td>0</td>\n",
       "      <td>0</td>\n",
       "      <td>0</td>\n",
       "      <td>0</td>\n",
       "      <td>0</td>\n",
       "      <td>0</td>\n",
       "      <td>0</td>\n",
       "      <td>0</td>\n",
       "      <td>0</td>\n",
       "      <td>0</td>\n",
       "      <td>0</td>\n",
       "      <td>0</td>\n",
       "      <td>0</td>\n",
       "      <td>0</td>\n",
       "      <td>0</td>\n",
       "      <td>0</td>\n",
       "      <td>1</td>\n",
       "      <td>0</td>\n",
       "      <td>0</td>\n",
       "      <td>0</td>\n",
       "      <td>0</td>\n",
       "    </tr>\n",
       "    <tr>\n",
       "      <th>2</th>\n",
       "      <td>0</td>\n",
       "      <td>0</td>\n",
       "      <td>0</td>\n",
       "      <td>0</td>\n",
       "      <td>1</td>\n",
       "      <td>0</td>\n",
       "      <td>0</td>\n",
       "      <td>0</td>\n",
       "      <td>0</td>\n",
       "      <td>0</td>\n",
       "      <td>0</td>\n",
       "      <td>0</td>\n",
       "      <td>1</td>\n",
       "      <td>0</td>\n",
       "      <td>0</td>\n",
       "      <td>0</td>\n",
       "      <td>0</td>\n",
       "      <td>0</td>\n",
       "      <td>0</td>\n",
       "      <td>0</td>\n",
       "      <td>0</td>\n",
       "      <td>0</td>\n",
       "      <td>0</td>\n",
       "      <td>0</td>\n",
       "      <td>0</td>\n",
       "      <td>0</td>\n",
       "      <td>0</td>\n",
       "      <td>0</td>\n",
       "      <td>0</td>\n",
       "      <td>0</td>\n",
       "      <td>0</td>\n",
       "      <td>0</td>\n",
       "      <td>0</td>\n",
       "      <td>0</td>\n",
       "      <td>0</td>\n",
       "      <td>0</td>\n",
       "      <td>0</td>\n",
       "      <td>0</td>\n",
       "      <td>0</td>\n",
       "      <td>0</td>\n",
       "      <td>...</td>\n",
       "      <td>0</td>\n",
       "      <td>1</td>\n",
       "      <td>0</td>\n",
       "      <td>0</td>\n",
       "      <td>0</td>\n",
       "      <td>2007</td>\n",
       "      <td>0</td>\n",
       "      <td>0</td>\n",
       "      <td>0</td>\n",
       "      <td>0</td>\n",
       "      <td>0</td>\n",
       "      <td>0</td>\n",
       "      <td>0</td>\n",
       "      <td>0</td>\n",
       "      <td>1</td>\n",
       "      <td>0</td>\n",
       "      <td>1</td>\n",
       "      <td>0</td>\n",
       "      <td>0</td>\n",
       "      <td>0</td>\n",
       "      <td>0</td>\n",
       "      <td>0</td>\n",
       "      <td>0</td>\n",
       "      <td>0</td>\n",
       "      <td>0</td>\n",
       "      <td>1</td>\n",
       "      <td>0</td>\n",
       "      <td>0</td>\n",
       "      <td>0</td>\n",
       "      <td>0</td>\n",
       "      <td>0</td>\n",
       "      <td>1</td>\n",
       "      <td>0</td>\n",
       "      <td>0</td>\n",
       "      <td>0</td>\n",
       "      <td>1</td>\n",
       "      <td>0</td>\n",
       "      <td>0</td>\n",
       "      <td>1</td>\n",
       "      <td>0</td>\n",
       "    </tr>\n",
       "  </tbody>\n",
       "</table>\n",
       "<p>3 rows × 99 columns</p>\n",
       "</div>"
      ],
      "text/plain": [
       "   custom  datsun  orange  cadillac  pontiac  ...  gas  offroad  subaru  red  audi\n",
       "0       0       0       0         0        0  ...    1        0       0    0     0\n",
       "1       0       0       0         0        0  ...    1        0       0    0     0\n",
       "2       0       0       0         0        1  ...    1        0       0    1     0\n",
       "\n",
       "[3 rows x 99 columns]"
      ]
     },
     "execution_count": 13,
     "metadata": {
      "tags": []
     },
     "output_type": "execute_result"
    }
   ],
   "source": [
    "numeric_columns = list(set(types.index[types[0] ==\"int64\"].values) - set([\"price\"]))\n",
    "variables_consolidadas = df[numeric_columns]\n",
    "objetivo = df[\"price\"] #Variable objetivo de nuestra regresion.\n",
    "\n",
    "variables_consolidadas.head(3)"
   ]
  },
  {
   "cell_type": "markdown",
   "metadata": {
    "colab_type": "text",
    "id": "mOP0z86EKrly"
   },
   "source": [
    "# 3. Separa el set de datos consolidados en 3 sets (entrenamiento, prueba y validación) de acuerdo con las recomendaciones vistas en el curso."
   ]
  },
  {
   "cell_type": "code",
   "execution_count": 0,
   "metadata": {
    "colab": {},
    "colab_type": "code",
    "id": "Jug8ZISZQQ0X"
   },
   "outputs": [],
   "source": [
    "#Coloca tu código aquí\n",
    "from sklearn.model_selection import train_test_split\n",
    "\n",
    "#80% train 20% test\n",
    "x_train,x_test, y_train,y_test = train_test_split(variables_consolidadas,objetivo,test_size=0.2, random_state=2020)"
   ]
  },
  {
   "cell_type": "code",
   "execution_count": 0,
   "metadata": {
    "colab": {},
    "colab_type": "code",
    "id": "IzWNixQ6ItBR"
   },
   "outputs": [],
   "source": [
    "#90% train 10% val\n",
    "x_train,x_val, y_train,y_val = train_test_split(x_train,y_train,test_size=0.1, random_state=2020)"
   ]
  },
  {
   "cell_type": "code",
   "execution_count": 0,
   "metadata": {
    "colab": {},
    "colab_type": "code",
    "id": "rWpp1VekItJi"
   },
   "outputs": [],
   "source": [
    "y_train=y_train.values.reshape(-1,1)\n",
    "y_test=y_test.values.reshape(-1,1)\n",
    "y_val=y_val.values.reshape(-1,1)"
   ]
  },
  {
   "cell_type": "code",
   "execution_count": 17,
   "metadata": {
    "colab": {
     "base_uri": "https://localhost:8080/",
     "height": 118
    },
    "colab_type": "code",
    "executionInfo": {
     "elapsed": 4548,
     "status": "ok",
     "timestamp": 1582144301336,
     "user": {
      "displayName": "Giuseppe Roa Osorio",
      "photoUrl": "https://lh3.googleusercontent.com/a-/AAuE7mC2PXAnx49WQQug7vKYNjHtgA8L5kRYyaS3zXbiSw=s64",
      "userId": "10412573325603630307"
     },
     "user_tz": 300
    },
    "id": "nNaA2I2YItNJ",
    "outputId": "7f2cfd3f-4cfe-49ab-b96a-438447e736f8"
   },
   "outputs": [
    {
     "name": "stdout",
     "output_type": "stream",
     "text": [
      "Shape of x_train: (312869, 99)\n",
      "Shape of x_test: (86909, 99)\n",
      "Shape of x_val: (34764, 99)\n",
      "Shape of y_train: (312869, 1)\n",
      "Shape of y_test: (86909, 1)\n",
      "Shape of y_val: (34764, 1)\n"
     ]
    }
   ],
   "source": [
    "print(\"Shape of x_train:\",x_train.shape)\n",
    "print(\"Shape of x_test:\",x_test.shape)\n",
    "print(\"Shape of x_val:\",x_val.shape)\n",
    "print(\"Shape of y_train:\",y_train.shape)\n",
    "print(\"Shape of y_test:\",y_test.shape)\n",
    "print(\"Shape of y_val:\",y_val.shape)"
   ]
  },
  {
   "cell_type": "code",
   "execution_count": 0,
   "metadata": {
    "colab": {},
    "colab_type": "code",
    "id": "ec-WpvcnItVq"
   },
   "outputs": [],
   "source": []
  },
  {
   "cell_type": "markdown",
   "metadata": {
    "colab_type": "text",
    "id": "APBt-AAfNBQj"
   },
   "source": [
    "<h1 id=\"arquitectura\">Diseño, Entrenamiento y Evaluación de la RN</h1>\n",
    "\n",
    "Una vez consolidado los sets de información de entrenamiento, validacion y pruebas ya podemos iniciar a modelar nuestra red neuronal con las siguientes consideraciones:\n",
    "* Realiza la prueba con un par de arquitecturas iniciales.\n",
    "* Evalua el desempeño de la red.\n",
    "* Si el desempeño es bajo vuelve a la información y prueba estrategias de estandarización de la información."
   ]
  },
  {
   "cell_type": "markdown",
   "metadata": {
    "colab_type": "text",
    "id": "528iJ6fQ86ds"
   },
   "source": [
    "# 4. Implementa una red neuronal cuyas pérdidas (MSE) con el set de prueba sea menor a 0.40."
   ]
  },
  {
   "cell_type": "code",
   "execution_count": 0,
   "metadata": {
    "colab": {},
    "colab_type": "code",
    "id": "Y6TWVkxGmcIB"
   },
   "outputs": [],
   "source": [
    "#Coloca tu código aquí\n",
    "from sklearn.preprocessing import StandardScaler\n",
    "scaler = StandardScaler()\n",
    "scaler.fit(x_train)\n",
    "x_train_scaled = scaler.transform(x_train)\n",
    "x_val_scaled = scaler.transform(x_val)\n",
    "x_test_scaled = scaler.transform(x_test)\n",
    "\n",
    "scaler1 = StandardScaler()\n",
    "scaler1.fit(y_train)\n",
    "y_train_scaled = scaler1.transform(y_train)\n",
    "y_val_scaled = scaler1.transform(y_val)\n",
    "y_test_scaled = scaler1.transform(y_test)"
   ]
  },
  {
   "cell_type": "code",
   "execution_count": 19,
   "metadata": {
    "colab": {
     "base_uri": "https://localhost:8080/",
     "height": 654
    },
    "colab_type": "code",
    "executionInfo": {
     "elapsed": 2567,
     "status": "ok",
     "timestamp": 1582144621097,
     "user": {
      "displayName": "Giuseppe Roa Osorio",
      "photoUrl": "https://lh3.googleusercontent.com/a-/AAuE7mC2PXAnx49WQQug7vKYNjHtgA8L5kRYyaS3zXbiSw=s64",
      "userId": "10412573325603630307"
     },
     "user_tz": 300
    },
    "id": "5WORHuhPQmKX",
    "outputId": "d106798b-ec3d-4bd5-e971-d98df1163c70"
   },
   "outputs": [
    {
     "name": "stderr",
     "output_type": "stream",
     "text": [
      "Using TensorFlow backend.\n"
     ]
    },
    {
     "data": {
      "text/html": [
       "<p style=\"color: red;\">\n",
       "The default version of TensorFlow in Colab will soon switch to TensorFlow 2.x.<br>\n",
       "We recommend you <a href=\"https://www.tensorflow.org/guide/migrate\" target=\"_blank\">upgrade</a> now \n",
       "or ensure your notebook will continue to use TensorFlow 1.x via the <code>%tensorflow_version 1.x</code> magic:\n",
       "<a href=\"https://colab.research.google.com/notebooks/tensorflow_version.ipynb\" target=\"_blank\">more info</a>.</p>\n"
      ],
      "text/plain": [
       "<IPython.core.display.HTML object>"
      ]
     },
     "metadata": {
      "tags": []
     },
     "output_type": "display_data"
    },
    {
     "name": "stdout",
     "output_type": "stream",
     "text": [
      "WARNING:tensorflow:From /usr/local/lib/python3.6/dist-packages/keras/backend/tensorflow_backend.py:66: The name tf.get_default_graph is deprecated. Please use tf.compat.v1.get_default_graph instead.\n",
      "\n",
      "WARNING:tensorflow:From /usr/local/lib/python3.6/dist-packages/keras/backend/tensorflow_backend.py:541: The name tf.placeholder is deprecated. Please use tf.compat.v1.placeholder instead.\n",
      "\n",
      "WARNING:tensorflow:From /usr/local/lib/python3.6/dist-packages/keras/backend/tensorflow_backend.py:4432: The name tf.random_uniform is deprecated. Please use tf.random.uniform instead.\n",
      "\n",
      "WARNING:tensorflow:From /usr/local/lib/python3.6/dist-packages/keras/backend/tensorflow_backend.py:148: The name tf.placeholder_with_default is deprecated. Please use tf.compat.v1.placeholder_with_default instead.\n",
      "\n",
      "WARNING:tensorflow:From /usr/local/lib/python3.6/dist-packages/keras/backend/tensorflow_backend.py:3733: calling dropout (from tensorflow.python.ops.nn_ops) with keep_prob is deprecated and will be removed in a future version.\n",
      "Instructions for updating:\n",
      "Please use `rate` instead of `keep_prob`. Rate should be set to `rate = 1 - keep_prob`.\n",
      "WARNING:tensorflow:From /usr/local/lib/python3.6/dist-packages/keras/optimizers.py:793: The name tf.train.Optimizer is deprecated. Please use tf.compat.v1.train.Optimizer instead.\n",
      "\n",
      "Model: \"sequential_1\"\n",
      "_________________________________________________________________\n",
      "Layer (type)                 Output Shape              Param #   \n",
      "=================================================================\n",
      "dense_1 (Dense)              (None, 256)               25600     \n",
      "_________________________________________________________________\n",
      "dense_2 (Dense)              (None, 128)               32896     \n",
      "_________________________________________________________________\n",
      "dense_3 (Dense)              (None, 128)               16512     \n",
      "_________________________________________________________________\n",
      "dropout_1 (Dropout)          (None, 128)               0         \n",
      "_________________________________________________________________\n",
      "dense_4 (Dense)              (None, 1)                 129       \n",
      "=================================================================\n",
      "Total params: 75,137\n",
      "Trainable params: 75,137\n",
      "Non-trainable params: 0\n",
      "_________________________________________________________________\n",
      "None\n"
     ]
    }
   ],
   "source": [
    "#Coloca tu código aquí\n",
    "from keras.models import Sequential\n",
    "from keras.layers import Dense, Dropout\n",
    "from keras.utils import plot_model\n",
    "\n",
    "model = Sequential()\n",
    "model.add(Dense(256,input_dim = x_train.shape[1],activation=\"relu\"))\n",
    "model.add(Dense(128,activation=\"relu\"))\n",
    "model.add(Dense(128,activation=\"relu\"))\n",
    "model.add(Dropout(0.2))\n",
    "model.add(Dense(1,activation = \"linear\")) \n",
    "model.compile(optimizer = \"adam\",loss=\"mse\",metrics=[\"mean_absolute_error\"])\n",
    "\n",
    "print(model.summary())"
   ]
  },
  {
   "cell_type": "code",
   "execution_count": 20,
   "metadata": {
    "colab": {
     "base_uri": "https://localhost:8080/",
     "height": 1000
    },
    "colab_type": "code",
    "executionInfo": {
     "elapsed": 83954,
     "status": "ok",
     "timestamp": 1582144734445,
     "user": {
      "displayName": "Giuseppe Roa Osorio",
      "photoUrl": "https://lh3.googleusercontent.com/a-/AAuE7mC2PXAnx49WQQug7vKYNjHtgA8L5kRYyaS3zXbiSw=s64",
      "userId": "10412573325603630307"
     },
     "user_tz": 300
    },
    "id": "H-y9uDZh_gxS",
    "outputId": "f515001b-d4dc-469d-bbff-86e0d593dd1c"
   },
   "outputs": [
    {
     "name": "stdout",
     "output_type": "stream",
     "text": [
      "WARNING:tensorflow:From /usr/local/lib/python3.6/dist-packages/keras/backend/tensorflow_backend.py:1033: The name tf.assign_add is deprecated. Please use tf.compat.v1.assign_add instead.\n",
      "\n",
      "WARNING:tensorflow:From /usr/local/lib/python3.6/dist-packages/keras/backend/tensorflow_backend.py:1020: The name tf.assign is deprecated. Please use tf.compat.v1.assign instead.\n",
      "\n",
      "WARNING:tensorflow:From /usr/local/lib/python3.6/dist-packages/keras/backend/tensorflow_backend.py:3005: The name tf.Session is deprecated. Please use tf.compat.v1.Session instead.\n",
      "\n",
      "Train on 312869 samples, validate on 34764 samples\n",
      "Epoch 1/50\n",
      "WARNING:tensorflow:From /usr/local/lib/python3.6/dist-packages/keras/backend/tensorflow_backend.py:190: The name tf.get_default_session is deprecated. Please use tf.compat.v1.get_default_session instead.\n",
      "\n",
      "WARNING:tensorflow:From /usr/local/lib/python3.6/dist-packages/keras/backend/tensorflow_backend.py:197: The name tf.ConfigProto is deprecated. Please use tf.compat.v1.ConfigProto instead.\n",
      "\n",
      "WARNING:tensorflow:From /usr/local/lib/python3.6/dist-packages/keras/backend/tensorflow_backend.py:207: The name tf.global_variables is deprecated. Please use tf.compat.v1.global_variables instead.\n",
      "\n",
      "WARNING:tensorflow:From /usr/local/lib/python3.6/dist-packages/keras/backend/tensorflow_backend.py:216: The name tf.is_variable_initialized is deprecated. Please use tf.compat.v1.is_variable_initialized instead.\n",
      "\n",
      "WARNING:tensorflow:From /usr/local/lib/python3.6/dist-packages/keras/backend/tensorflow_backend.py:223: The name tf.variables_initializer is deprecated. Please use tf.compat.v1.variables_initializer instead.\n",
      "\n",
      "312869/312869 [==============================] - 11s 34us/step - loss: 0.5412 - mean_absolute_error: 0.5068 - val_loss: 0.8033 - val_mean_absolute_error: 0.4596\n",
      "Epoch 2/50\n",
      "312869/312869 [==============================] - 1s 5us/step - loss: 0.5111 - mean_absolute_error: 0.4541 - val_loss: 0.5451 - val_mean_absolute_error: 0.4423\n",
      "Epoch 3/50\n",
      "312869/312869 [==============================] - 1s 5us/step - loss: 0.4587 - mean_absolute_error: 0.4413 - val_loss: 0.4490 - val_mean_absolute_error: 0.4368\n",
      "Epoch 4/50\n",
      "312869/312869 [==============================] - 1s 5us/step - loss: 0.4529 - mean_absolute_error: 0.4354 - val_loss: 0.4475 - val_mean_absolute_error: 0.4313\n",
      "Epoch 5/50\n",
      "312869/312869 [==============================] - 1s 5us/step - loss: 0.4231 - mean_absolute_error: 0.4290 - val_loss: 0.4573 - val_mean_absolute_error: 0.4236\n",
      "Epoch 6/50\n",
      "312869/312869 [==============================] - 1s 5us/step - loss: 0.4191 - mean_absolute_error: 0.4244 - val_loss: 0.4425 - val_mean_absolute_error: 0.4301\n",
      "Epoch 7/50\n",
      "312869/312869 [==============================] - 1s 5us/step - loss: 0.4084 - mean_absolute_error: 0.4204 - val_loss: 0.4239 - val_mean_absolute_error: 0.4241\n",
      "Epoch 8/50\n",
      "312869/312869 [==============================] - 1s 5us/step - loss: 0.4000 - mean_absolute_error: 0.4164 - val_loss: 0.4107 - val_mean_absolute_error: 0.4218\n",
      "Epoch 9/50\n",
      "312869/312869 [==============================] - 1s 5us/step - loss: 0.3939 - mean_absolute_error: 0.4132 - val_loss: 0.4047 - val_mean_absolute_error: 0.4178\n",
      "Epoch 10/50\n",
      "312869/312869 [==============================] - 1s 5us/step - loss: 0.3880 - mean_absolute_error: 0.4101 - val_loss: 0.4005 - val_mean_absolute_error: 0.4141\n",
      "Epoch 11/50\n",
      "312869/312869 [==============================] - 1s 5us/step - loss: 0.3819 - mean_absolute_error: 0.4067 - val_loss: 0.3987 - val_mean_absolute_error: 0.4138\n",
      "Epoch 12/50\n",
      "312869/312869 [==============================] - 1s 5us/step - loss: 0.3775 - mean_absolute_error: 0.4043 - val_loss: 0.3983 - val_mean_absolute_error: 0.4113\n",
      "Epoch 13/50\n",
      "312869/312869 [==============================] - 2s 5us/step - loss: 0.3740 - mean_absolute_error: 0.4025 - val_loss: 0.3970 - val_mean_absolute_error: 0.4080\n",
      "Epoch 14/50\n",
      "312869/312869 [==============================] - 1s 5us/step - loss: 0.3696 - mean_absolute_error: 0.3995 - val_loss: 0.3942 - val_mean_absolute_error: 0.4081\n",
      "Epoch 15/50\n",
      "312869/312869 [==============================] - 1s 5us/step - loss: 0.3662 - mean_absolute_error: 0.3977 - val_loss: 0.3935 - val_mean_absolute_error: 0.4077\n",
      "Epoch 16/50\n",
      "312869/312869 [==============================] - 1s 5us/step - loss: 0.3632 - mean_absolute_error: 0.3961 - val_loss: 0.3917 - val_mean_absolute_error: 0.4022\n",
      "Epoch 17/50\n",
      "312869/312869 [==============================] - 1s 5us/step - loss: 0.3586 - mean_absolute_error: 0.3938 - val_loss: 0.3922 - val_mean_absolute_error: 0.4034\n",
      "Epoch 18/50\n",
      "312869/312869 [==============================] - 1s 5us/step - loss: 0.3563 - mean_absolute_error: 0.3926 - val_loss: 0.3894 - val_mean_absolute_error: 0.4017\n",
      "Epoch 19/50\n",
      "312869/312869 [==============================] - 1s 5us/step - loss: 0.3544 - mean_absolute_error: 0.3912 - val_loss: 0.3934 - val_mean_absolute_error: 0.4043\n",
      "Epoch 20/50\n",
      "312869/312869 [==============================] - 1s 5us/step - loss: 0.3506 - mean_absolute_error: 0.3893 - val_loss: 0.3898 - val_mean_absolute_error: 0.4105\n",
      "Epoch 21/50\n",
      "312869/312869 [==============================] - 1s 5us/step - loss: 0.3484 - mean_absolute_error: 0.3881 - val_loss: 0.3883 - val_mean_absolute_error: 0.4005\n",
      "Epoch 22/50\n",
      "312869/312869 [==============================] - 2s 5us/step - loss: 0.3455 - mean_absolute_error: 0.3863 - val_loss: 0.3876 - val_mean_absolute_error: 0.4008\n",
      "Epoch 23/50\n",
      "312869/312869 [==============================] - 1s 5us/step - loss: 0.3429 - mean_absolute_error: 0.3849 - val_loss: 0.3868 - val_mean_absolute_error: 0.3988\n",
      "Epoch 24/50\n",
      "312869/312869 [==============================] - 2s 5us/step - loss: 0.3410 - mean_absolute_error: 0.3837 - val_loss: 0.3833 - val_mean_absolute_error: 0.3983\n",
      "Epoch 25/50\n",
      "312869/312869 [==============================] - 1s 5us/step - loss: 0.3383 - mean_absolute_error: 0.3823 - val_loss: 0.4063 - val_mean_absolute_error: 0.4016\n",
      "Epoch 26/50\n",
      "312869/312869 [==============================] - 1s 5us/step - loss: 0.3399 - mean_absolute_error: 0.3827 - val_loss: 0.3844 - val_mean_absolute_error: 0.4014\n",
      "Epoch 27/50\n",
      "312869/312869 [==============================] - 1s 5us/step - loss: 0.3359 - mean_absolute_error: 0.3810 - val_loss: 0.4604 - val_mean_absolute_error: 0.3991\n",
      "Epoch 28/50\n",
      "312869/312869 [==============================] - 1s 5us/step - loss: 0.3371 - mean_absolute_error: 0.3802 - val_loss: 0.3979 - val_mean_absolute_error: 0.3997\n",
      "Epoch 29/50\n",
      "312869/312869 [==============================] - 1s 5us/step - loss: 0.3339 - mean_absolute_error: 0.3786 - val_loss: 0.3935 - val_mean_absolute_error: 0.4005\n",
      "Epoch 30/50\n",
      "312869/312869 [==============================] - 1s 5us/step - loss: 0.3291 - mean_absolute_error: 0.3773 - val_loss: 0.3850 - val_mean_absolute_error: 0.3983\n",
      "Epoch 31/50\n",
      "312869/312869 [==============================] - 1s 5us/step - loss: 0.3279 - mean_absolute_error: 0.3765 - val_loss: 0.3800 - val_mean_absolute_error: 0.3981\n",
      "Epoch 32/50\n",
      "312869/312869 [==============================] - 1s 5us/step - loss: 0.3266 - mean_absolute_error: 0.3751 - val_loss: 0.3839 - val_mean_absolute_error: 0.4000\n",
      "Epoch 33/50\n",
      "312869/312869 [==============================] - 1s 5us/step - loss: 0.3234 - mean_absolute_error: 0.3738 - val_loss: 0.3778 - val_mean_absolute_error: 0.3940\n",
      "Epoch 34/50\n",
      "312869/312869 [==============================] - 1s 5us/step - loss: 0.3230 - mean_absolute_error: 0.3733 - val_loss: 0.3805 - val_mean_absolute_error: 0.3955\n",
      "Epoch 35/50\n",
      "312869/312869 [==============================] - 1s 5us/step - loss: 0.3215 - mean_absolute_error: 0.3723 - val_loss: 0.3803 - val_mean_absolute_error: 0.3955\n",
      "Epoch 36/50\n",
      "312869/312869 [==============================] - 1s 5us/step - loss: 0.3202 - mean_absolute_error: 0.3718 - val_loss: 0.3800 - val_mean_absolute_error: 0.3966\n",
      "Epoch 37/50\n",
      "312869/312869 [==============================] - 1s 5us/step - loss: 0.3178 - mean_absolute_error: 0.3700 - val_loss: 0.3795 - val_mean_absolute_error: 0.3974\n",
      "Epoch 38/50\n",
      "312869/312869 [==============================] - 1s 5us/step - loss: 0.3174 - mean_absolute_error: 0.3700 - val_loss: 0.3782 - val_mean_absolute_error: 0.3953\n",
      "Epoch 39/50\n",
      "312869/312869 [==============================] - 1s 5us/step - loss: 0.3157 - mean_absolute_error: 0.3692 - val_loss: 0.3787 - val_mean_absolute_error: 0.3927\n",
      "Epoch 40/50\n",
      "312869/312869 [==============================] - 1s 5us/step - loss: 0.3144 - mean_absolute_error: 0.3682 - val_loss: 0.3786 - val_mean_absolute_error: 0.3943\n",
      "Epoch 41/50\n",
      "312869/312869 [==============================] - 1s 5us/step - loss: 0.3127 - mean_absolute_error: 0.3670 - val_loss: 0.3772 - val_mean_absolute_error: 0.3917\n",
      "Epoch 42/50\n",
      "312869/312869 [==============================] - 1s 5us/step - loss: 0.3120 - mean_absolute_error: 0.3666 - val_loss: 0.3773 - val_mean_absolute_error: 0.3944\n",
      "Epoch 43/50\n",
      "312869/312869 [==============================] - 1s 5us/step - loss: 0.3109 - mean_absolute_error: 0.3658 - val_loss: 0.3806 - val_mean_absolute_error: 0.3936\n",
      "Epoch 44/50\n",
      "312869/312869 [==============================] - 1s 5us/step - loss: 0.3102 - mean_absolute_error: 0.3655 - val_loss: 0.3753 - val_mean_absolute_error: 0.3940\n",
      "Epoch 45/50\n",
      "312869/312869 [==============================] - 1s 5us/step - loss: 0.3097 - mean_absolute_error: 0.3655 - val_loss: 0.3774 - val_mean_absolute_error: 0.3950\n",
      "Epoch 46/50\n",
      "312869/312869 [==============================] - 2s 5us/step - loss: 0.6512 - mean_absolute_error: 0.3715 - val_loss: 0.3776 - val_mean_absolute_error: 0.3920\n",
      "Epoch 47/50\n",
      "312869/312869 [==============================] - 1s 5us/step - loss: 0.3113 - mean_absolute_error: 0.3681 - val_loss: 0.3704 - val_mean_absolute_error: 0.3902\n",
      "Epoch 48/50\n",
      "312869/312869 [==============================] - 2s 5us/step - loss: 0.3087 - mean_absolute_error: 0.3661 - val_loss: 0.3757 - val_mean_absolute_error: 0.3911\n",
      "Epoch 49/50\n",
      "312869/312869 [==============================] - 1s 5us/step - loss: 0.3063 - mean_absolute_error: 0.3642 - val_loss: 0.3756 - val_mean_absolute_error: 0.3897\n",
      "Epoch 50/50\n",
      "312869/312869 [==============================] - 1s 5us/step - loss: 0.3061 - mean_absolute_error: 0.3640 - val_loss: 0.3762 - val_mean_absolute_error: 0.3920\n"
     ]
    },
    {
     "data": {
      "text/plain": [
       "<keras.callbacks.History at 0x7f7ad6d07438>"
      ]
     },
     "execution_count": 20,
     "metadata": {
      "tags": []
     },
     "output_type": "execute_result"
    }
   ],
   "source": [
    "model.fit(x_train_scaled,y_train_scaled, validation_data = (x_val_scaled,y_val_scaled),epochs=50, batch_size=1024)"
   ]
  },
  {
   "cell_type": "markdown",
   "metadata": {
    "colab_type": "text",
    "id": "ubDSL59pCcBg"
   },
   "source": [
    "Ahora realiza la evaluación del modelo con el set de entrenamiento."
   ]
  },
  {
   "cell_type": "code",
   "execution_count": 21,
   "metadata": {
    "colab": {
     "base_uri": "https://localhost:8080/",
     "height": 67
    },
    "colab_type": "code",
    "executionInfo": {
     "elapsed": 2859,
     "status": "ok",
     "timestamp": 1582144780741,
     "user": {
      "displayName": "Giuseppe Roa Osorio",
      "photoUrl": "https://lh3.googleusercontent.com/a-/AAuE7mC2PXAnx49WQQug7vKYNjHtgA8L5kRYyaS3zXbiSw=s64",
      "userId": "10412573325603630307"
     },
     "user_tz": 300
    },
    "id": "B6C_XX0dRHxR",
    "outputId": "863b583e-34eb-4335-f333-b022c9120fb6"
   },
   "outputs": [
    {
     "name": "stdout",
     "output_type": "stream",
     "text": [
      "86909/86909 [==============================] - 2s 26us/step\n",
      "Metric  loss : 0.38\n",
      "Metric  mean_absolute_error : 0.4\n"
     ]
    }
   ],
   "source": [
    "result = model.evaluate(x_test_scaled,y_test_scaled)\n",
    "for i in range(len(model.metrics_names)):\n",
    " print(\"Metric \",model.metrics_names[i],\":\",\n",
    "str(round(result[i],2)))"
   ]
  },
  {
   "cell_type": "markdown",
   "metadata": {
    "colab_type": "text",
    "id": "owT0Fwf0_N3i"
   },
   "source": [
    "Si tu modelo cumple con el requerimiento guardalo con el siguiente comando:"
   ]
  },
  {
   "cell_type": "code",
   "execution_count": 0,
   "metadata": {
    "colab": {},
    "colab_type": "code",
    "id": "bsuyXASg-aS0"
   },
   "outputs": [],
   "source": [
    "model.save('PrediccionPrecios.h5')"
   ]
  },
  {
   "cell_type": "markdown",
   "metadata": {
    "colab_type": "text",
    "id": "f6Qd8SigDTs3"
   },
   "source": [
    "# 5. Realiza un gráfico que evidencia la evolución de la función de pérdidas a traves de las distintas épocas de entrenamiento."
   ]
  },
  {
   "cell_type": "code",
   "execution_count": 23,
   "metadata": {
    "colab": {
     "base_uri": "https://localhost:8080/",
     "height": 406
    },
    "colab_type": "code",
    "executionInfo": {
     "elapsed": 1505,
     "status": "ok",
     "timestamp": 1582144830211,
     "user": {
      "displayName": "Giuseppe Roa Osorio",
      "photoUrl": "https://lh3.googleusercontent.com/a-/AAuE7mC2PXAnx49WQQug7vKYNjHtgA8L5kRYyaS3zXbiSw=s64",
      "userId": "10412573325603630307"
     },
     "user_tz": 300
    },
    "id": "FigeTaWgRqow",
    "outputId": "6a3786f9-d13e-4373-d2cc-eb1e92f4eff9"
   },
   "outputs": [
    {
     "data": {
      "image/png": "[encoded data removed]",
      "text/plain": [
       "<Figure size 936x432 with 1 Axes>"
      ]
     },
     "metadata": {
      "tags": []
     },
     "output_type": "display_data"
    }
   ],
   "source": [
    "#Coloca tu código aquí\n",
    "import matplotlib.pyplot as plt\n",
    "%matplotlib inline\n",
    "plt.figure(figsize=(13,6))\n",
    "plt.plot(model.history.history['loss'])\n",
    "plt.plot(model.history.history['val_loss'])\n",
    "plt.title(\"Pérdidas del modelo con set de entrenamiento y pruebas por época\")\n",
    "plt.ylabel('MSE')\n",
    "plt.xlabel('Épocas')\n",
    "plt.legend(['Entrenamiento', 'Validación'], loc='upper right')\n",
    "plt.show()"
   ]
  },
  {
   "cell_type": "markdown",
   "metadata": {
    "colab_type": "text",
    "id": "xE5rdI5bFG2J"
   },
   "source": [
    "Trata de realizar predicciones con el modelo"
   ]
  },
  {
   "cell_type": "code",
   "execution_count": 24,
   "metadata": {
    "colab": {
     "base_uri": "https://localhost:8080/",
     "height": 104
    },
    "colab_type": "code",
    "executionInfo": {
     "elapsed": 7217,
     "status": "ok",
     "timestamp": 1582144970384,
     "user": {
      "displayName": "Giuseppe Roa Osorio",
      "photoUrl": "https://lh3.googleusercontent.com/a-/AAuE7mC2PXAnx49WQQug7vKYNjHtgA8L5kRYyaS3zXbiSw=s64",
      "userId": "10412573325603630307"
     },
     "user_tz": 300
    },
    "id": "ZzoagaX5FELl",
    "outputId": "43de32f6-ed07-4682-ff00-d81675b5410a"
   },
   "outputs": [
    {
     "name": "stdout",
     "output_type": "stream",
     "text": [
      "Real=18650, Prediccion=18317.469\n",
      "Real=9950, Prediccion=9246.218\n",
      "Real=2000, Prediccion=4329.2134\n",
      "Real=7999, Prediccion=5839.42\n",
      "Real=23999, Prediccion=21855.861\n"
     ]
    }
   ],
   "source": [
    "real=pd.DataFrame(y_train)\n",
    "predic=model.predict(pd.DataFrame(x_train_scaled))\n",
    "valores_reescalados = scaler1.inverse_transform(predic)\n",
    "pred_escal =pd.DataFrame(valores_reescalados)\n",
    "# Muestra los valores reales y las predicciones\n",
    "for i in range(0,5):\n",
    "\tprint(\"Real=%s, Prediccion=%s\" % (real[0][i], pred_escal[0][i]))"
   ]
  },
  {
   "cell_type": "markdown",
   "metadata": {
    "colab_type": "text",
    "id": "vNB6p9Kx9lFV"
   },
   "source": [
    "# Happy coding!"
   ]
  }
 ],
 "metadata": {
  "accelerator": "GPU",
  "colab": {
   "machine_shape": "hm",
   "name": "Proyecto_Precios_Vehiculos_Usados_BLANCO.ipynb",
   "provenance": []
  },
  "kernelspec": {
   "display_name": "Python 3",
   "language": "python",
   "name": "python3"
  },
  "language_info": {
   "codemirror_mode": {
    "name": "ipython",
    "version": 3
   },
   "file_extension": ".py",
   "mimetype": "text/x-python",
   "name": "python",
   "nbconvert_exporter": "python",
   "pygments_lexer": "ipython3",
   "version": "3.7.5"
  }
 },
 "nbformat": 4,
 "nbformat_minor": 1
}
